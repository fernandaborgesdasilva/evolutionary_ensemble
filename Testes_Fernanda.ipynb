{
 "cells": [
  {
   "cell_type": "code",
   "execution_count": 1,
   "metadata": {},
   "outputs": [],
   "source": [
    "def warn(*args, **kwargs):\n",
    "    pass\n",
    "import warnings\n",
    "warnings.warn = warn"
   ]
  },
  {
   "cell_type": "code",
   "execution_count": 2,
   "metadata": {},
   "outputs": [],
   "source": [
    "from sklearn.neighbors import KNeighborsClassifier\n",
    "from sklearn.linear_model import RidgeClassifier\n",
    "from sklearn.discriminant_analysis import LinearDiscriminantAnalysis\n",
    "from sklearn.discriminant_analysis import QuadraticDiscriminantAnalysis\n",
    "from sklearn.naive_bayes import GaussianNB\n",
    "from sklearn.naive_bayes import BernoulliNB\n",
    "from sklearn.gaussian_process import GaussianProcessClassifier\n",
    "from sklearn.ensemble import RandomForestClassifier\n",
    "from sklearn.ensemble import AdaBoostClassifier\n",
    "from sklearn.linear_model import SGDClassifier\n",
    "from sklearn.svm import SVC\n",
    "from sklearn.tree import ExtraTreeClassifier\n",
    "from sklearn.tree import DecisionTreeClassifier\n",
    "from sklearn.linear_model import LogisticRegression\n",
    "from sklearn.neighbors.nearest_centroid import NearestCentroid\n",
    "from sklearn.linear_model import PassiveAggressiveClassifier\n",
    "from sklearn.model_selection import train_test_split\n",
    "from sklearn import datasets\n",
    "from sklearn.metrics import accuracy_score\n",
    "from sklearn.metrics import f1_score\n",
    "from sklearn.metrics import roc_auc_score\n",
    "from sklearn.metrics import precision_score\n",
    "from sklearn.metrics import recall_score\n",
    "from sklearn.preprocessing import LabelEncoder\n",
    "from sklearn.ensemble import VotingClassifier\n",
    "import matplotlib.pyplot as plt\n",
    "import pandas as pd\n",
    "import time\n",
    "import numpy as np\n",
    "from itertools import product, combinations\n",
    "import random\n",
    "from sklearn.model_selection import KFold\n",
    "import csv"
   ]
  },
  {
   "cell_type": "code",
   "execution_count": 3,
   "metadata": {},
   "outputs": [],
   "source": [
    "from ensembles import DiversityEnsembleClassifier as DEC\n",
    "from brute_force_search import BruteForceEnsembleClassifier as BFEC"
   ]
  },
  {
   "cell_type": "code",
   "execution_count": 4,
   "metadata": {},
   "outputs": [],
   "source": [
    "iris   = datasets.load_iris()\n",
    "breast = datasets.load_breast_cancer()\n",
    "wine   = datasets.load_wine()"
   ]
  },
  {
   "cell_type": "code",
   "execution_count": 5,
   "metadata": {},
   "outputs": [],
   "source": [
    "def compare_results(data, target, n_estimators, csv_file):\n",
    "    accuracy, f1, precision, recall, auc = 0, 0, 0, 0, 0\n",
    "    n_samples = int(((data.shape[0]*0.8 * 4) // 5)-4)\n",
    "    alg = {\n",
    "                KNeighborsClassifier(): {'n_neighbors':[1, 20, 30, n_samples]},\n",
    "                RidgeClassifier(): {'alpha':[1.0, 10.0],'max_iter':[10, 100]},\n",
    "                SVC(): {'C':[1, 1000],'gamma':[0.0001, 0.001]},\n",
    "                DecisionTreeClassifier(): {'min_samples_leaf':[1, n_samples], 'max_depth':[1, n_samples]},\n",
    "                ExtraTreeClassifier(): {'min_samples_leaf':[1, n_samples], 'max_depth':[1, n_samples]},\n",
    "                GaussianNB(): {},\n",
    "                LinearDiscriminantAnalysis(): {},\n",
    "                QuadraticDiscriminantAnalysis(): {},\n",
    "                BernoulliNB(): {},\n",
    "                LogisticRegression(): {'C':[1, 1000], 'max_iter':[100, 1000]},\n",
    "                NearestCentroid(): {},\n",
    "                PassiveAggressiveClassifier(): {'C':[1, 1000], 'max_iter':[100, 1000]},\n",
    "                SGDClassifier(): {'alpha':[1e-5, 1e-2], 'max_iter':[100, 1000]}\n",
    "    }     \n",
    "    \n",
    "    print('*'*60)\n",
    "    print('Brute Force Ensemble Classifier')\n",
    "    print('*'*60)\n",
    "    aux = int(round(time.time() * 1000))\n",
    "    ensemble_classifier = BFEC(algorithms=alg, stop_time=100, n_estimators=int(n_estimators), random_state=42)\n",
    "    \n",
    "    total_size = 0\n",
    "    for i in ensemble_classifier.estimators_pool(alg):\n",
    "        total_size = total_size+1\n",
    "    if n_estimators < total_size:\n",
    "        X_train, X_test, y_train, y_test = train_test_split(data, target, test_size=0.2)\n",
    "        search_results = ensemble_classifier.fit(X_train, y_train)\n",
    "        \n",
    "        #saving results as pandas dataframe and csv\n",
    "        search_results_pd = pd.DataFrame.from_dict(search_results, orient='index')\n",
    "        search_results_pd.to_csv (csv_file, index = None, header=True)\n",
    "\n",
    "        ensemble = search_results_pd[-1:][\"ensemble\"].item()\n",
    "        best_fitness_classifiers = search_results_pd[-1:][\"best_fitness_classifiers\"].item()\n",
    "\n",
    "        ensemble_classifier.fit_ensemble(X_train, y_train, ensemble, best_fitness_classifiers)\n",
    "        y_pred = ensemble_classifier.predict(X_test)\n",
    "        accuracy += accuracy_score(y_test, y_pred)\n",
    "        try: f1 += f1_score(y_test, y_pred)\n",
    "        except: pass\n",
    "        try: precision += precision_score(y_test, y_pred)\n",
    "        except: pass\n",
    "        try: recall += recall_score(y_test, y_pred)\n",
    "        except: pass\n",
    "        try: auc += roc_auc_score(y_test, y_pred)\n",
    "        except: pass\n",
    "        print('Accuracy :', accuracy)\n",
    "        if f1>0: print('F1-score :', f1)\n",
    "        if precision>0: print('Precision:', precision)\n",
    "        if recall>0: print('Recall   :', recall)\n",
    "        if auc>0: print('ROC AUC  :', auc)\n",
    "        print('BFEC done in: ',(int(round(time.time() * 1000)) - aux)/10, 'ms')\n",
    "    else:\n",
    "        print('O n_estimators precisa ser menor que o valor total de elementos a serem combinados')"
   ]
  },
  {
   "cell_type": "code",
   "execution_count": 6,
   "metadata": {
    "scrolled": false
   },
   "outputs": [
    {
     "name": "stdout",
     "output_type": "stream",
     "text": [
      "************************************************************\n",
      "Brute Force Ensemble Classifier\n",
      "************************************************************\n",
      "Accuracy : 0.9333333333333333\n",
      "BFEC done in:  1124.2 ms\n"
     ]
    }
   ],
   "source": [
    "compare_results(data=iris.data, target=iris.target, n_estimators=20, csv_file='iris_results.csv')"
   ]
  },
  {
   "cell_type": "code",
   "execution_count": 7,
   "metadata": {},
   "outputs": [
    {
     "name": "stdout",
     "output_type": "stream",
     "text": [
      "************************************************************\n",
      "Brute Force Ensemble Classifier\n",
      "************************************************************\n",
      "Accuracy : 0.8055555555555556\n",
      "BFEC done in:  1432.3 ms\n"
     ]
    }
   ],
   "source": [
    "compare_results(data=wine.data, target=wine.target, n_estimators=20, csv_file='wine_results.csv')"
   ]
  },
  {
   "cell_type": "code",
   "execution_count": 8,
   "metadata": {},
   "outputs": [
    {
     "name": "stdout",
     "output_type": "stream",
     "text": [
      "************************************************************\n",
      "Brute Force Ensemble Classifier\n",
      "************************************************************\n",
      "Accuracy : 0.956140350877193\n",
      "F1-score : 0.9655172413793103\n",
      "Precision: 0.9459459459459459\n",
      "Recall   : 0.9859154929577465\n",
      "ROC AUC  : 0.9464461185718965\n",
      "BFEC done in:  3742.7 ms\n"
     ]
    }
   ],
   "source": [
    "compare_results(data=breast.data, target=breast.target, n_estimators=20, csv_file='breast_results.csv')"
   ]
  },
  {
   "cell_type": "code",
   "execution_count": null,
   "metadata": {},
   "outputs": [],
   "source": []
  }
 ],
 "metadata": {
  "kernelspec": {
   "display_name": "Python 3",
   "language": "python",
   "name": "python3"
  },
  "language_info": {
   "codemirror_mode": {
    "name": "ipython",
    "version": 3
   },
   "file_extension": ".py",
   "mimetype": "text/x-python",
   "name": "python",
   "nbconvert_exporter": "python",
   "pygments_lexer": "ipython3",
   "version": "3.6.4"
  }
 },
 "nbformat": 4,
 "nbformat_minor": 2
}
