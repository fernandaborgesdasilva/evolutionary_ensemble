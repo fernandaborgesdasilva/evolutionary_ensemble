{
 "cells": [
  {
   "cell_type": "code",
   "execution_count": 1,
   "metadata": {},
   "outputs": [],
   "source": [
    "def warn(*args, **kwargs):\n",
    "    pass\n",
    "import warnings\n",
    "warnings.warn = warn"
   ]
  },
  {
   "cell_type": "code",
   "execution_count": 2,
   "metadata": {},
   "outputs": [],
   "source": [
    "from sklearn.neighbors import KNeighborsClassifier\n",
    "from sklearn.linear_model import RidgeClassifier\n",
    "from sklearn.discriminant_analysis import LinearDiscriminantAnalysis\n",
    "from sklearn.discriminant_analysis import QuadraticDiscriminantAnalysis\n",
    "from sklearn.naive_bayes import GaussianNB\n",
    "from sklearn.naive_bayes import BernoulliNB\n",
    "from sklearn.gaussian_process import GaussianProcessClassifier\n",
    "from sklearn.ensemble import RandomForestClassifier\n",
    "from sklearn.ensemble import AdaBoostClassifier\n",
    "from sklearn.linear_model import SGDClassifier\n",
    "from sklearn.svm import SVC\n",
    "from sklearn.tree import ExtraTreeClassifier\n",
    "from sklearn.tree import DecisionTreeClassifier\n",
    "from sklearn.linear_model import LogisticRegression\n",
    "from sklearn.neighbors.nearest_centroid import NearestCentroid\n",
    "from sklearn.linear_model import PassiveAggressiveClassifier\n",
    "from sklearn.model_selection import train_test_split\n",
    "from sklearn import datasets\n",
    "from sklearn.metrics import accuracy_score\n",
    "from sklearn.metrics import f1_score\n",
    "from sklearn.metrics import roc_auc_score\n",
    "from sklearn.metrics import precision_score\n",
    "from sklearn.metrics import recall_score\n",
    "from sklearn.preprocessing import LabelEncoder\n",
    "from sklearn.ensemble import VotingClassifier\n",
    "import matplotlib.pyplot as plt\n",
    "import pandas as pd\n",
    "import time\n",
    "import numpy as np\n",
    "from itertools import product, combinations\n",
    "import random\n",
    "from sklearn.model_selection import KFold"
   ]
  },
  {
   "cell_type": "code",
   "execution_count": 3,
   "metadata": {},
   "outputs": [],
   "source": [
    "from ensembles import DiversityEnsembleClassifier as DEC\n",
    "from brute_force_random_search import BruteForceEnsembleClassifier as BFEC"
   ]
  },
  {
   "cell_type": "code",
   "execution_count": 4,
   "metadata": {},
   "outputs": [],
   "source": [
    "iris   = datasets.load_iris()\n",
    "breast = datasets.load_breast_cancer()\n",
    "wine   = datasets.load_wine()"
   ]
  },
  {
   "cell_type": "code",
   "execution_count": 5,
   "metadata": {},
   "outputs": [],
   "source": [
    "def estimators(estimator_grid):\n",
    "    for estimator, param_grid in list(estimator_grid.items()): \n",
    "        items = sorted(param_grid.items())\n",
    "        if not items:\n",
    "            yield (estimator, {})\n",
    "        else:\n",
    "            keys, values = zip(*items)\n",
    "            for v in product(*values):\n",
    "                params = dict(zip(keys, v))\n",
    "                yield (estimator, params)"
   ]
  },
  {
   "cell_type": "code",
   "execution_count": 6,
   "metadata": {},
   "outputs": [],
   "source": [
    "def define_all_possible_ensembles(data, n_estimators=10):\n",
    "    n_samples = int(((data.shape[0]*0.8 * 4) // 5)-4)\n",
    "    alg = {\n",
    "                KNeighborsClassifier(): {'n_neighbors':[1, 20, 30, n_samples]},\n",
    "                #RidgeClassifier(): {'alpha':[1.0, 10.0],'max_iter':[10, 100]},\n",
    "                SVC(): {'C':[1, 1000],'gamma':[0.0001, 0.001]},\n",
    "                DecisionTreeClassifier(): {'min_samples_leaf':[1, n_samples], 'max_depth':[1, n_samples]},\n",
    "                ExtraTreeClassifier(): {'min_samples_leaf':[1, n_samples], 'max_depth':[1, n_samples]},\n",
    "                GaussianNB(): {},\n",
    "                LinearDiscriminantAnalysis(): {},\n",
    "                QuadraticDiscriminantAnalysis(): {},\n",
    "                BernoulliNB(): {},\n",
    "                LogisticRegression(): {'C':[1, 1000], 'max_iter':[100, 1000]},\n",
    "                #NearestCentroid(): {},\n",
    "                PassiveAggressiveClassifier(): {'C':[1, 1000], 'max_iter':[100, 1000]},\n",
    "                SGDClassifier(): {'alpha':[1e-5, 1e-2], 'max_iter':[100, 1000]}\n",
    "    }\n",
    "    all_ensembles = []\n",
    "    for i, classifiers in enumerate(combinations(estimators(alg),n_estimators)):\n",
    "        all_ensembles.append([i,classifiers])\n",
    "    return all_ensembles"
   ]
  },
  {
   "cell_type": "code",
   "execution_count": 7,
   "metadata": {},
   "outputs": [],
   "source": [
    "def compare_results(data, target, n_estimators, csv_file, all_possible_ensembles):\n",
    "    accuracy, f1, precision, recall, auc = 0, 0, 0, 0, 0  \n",
    "    \n",
    "    print('*'*60)\n",
    "    print('Brute Force Ensemble Classifier')\n",
    "    print('*'*60)\n",
    "    aux = int(round(time.time() * 1000))\n",
    "    ensemble_classifier = BFEC(stop_time=100, n_estimators=int(n_estimators), random_state=42)\n",
    "    \n",
    "    X_train, X_test, y_train, y_test = train_test_split(data, target, test_size=0.2)\n",
    "    search_results = ensemble_classifier.fit(X_train, y_train, all_possible_ensembles)\n",
    "    \n",
    "    #saving results as pandas dataframe and csv\n",
    "    search_results_pd = pd.DataFrame.from_dict(search_results, orient='index')\n",
    "    search_results_pd.to_csv (csv_file, index = None, header=True)\n",
    "\n",
    "    ensemble = search_results_pd[-1:][\"ensemble\"].item()\n",
    "    best_fitness_classifiers = search_results_pd[-1:][\"best_fitness_classifiers\"].item()\n",
    "    ensemble_classifier.fit_ensemble(X_train, y_train, ensemble[1], best_fitness_classifiers)\n",
    "    y_pred = ensemble_classifier.predict(X_test)\n",
    "    accuracy += accuracy_score(y_test, y_pred)\n",
    "    try: f1 += f1_score(y_test, y_pred)\n",
    "    except: pass\n",
    "    try: precision += precision_score(y_test, y_pred)\n",
    "    except: pass\n",
    "    try: recall += recall_score(y_test, y_pred)\n",
    "    except: pass\n",
    "    try: auc += roc_auc_score(y_test, y_pred)\n",
    "    except: pass\n",
    "    print('Accuracy :', accuracy)\n",
    "    if f1>0: print('F1-score :', f1)\n",
    "    if precision>0: print('Precision:', precision)\n",
    "    if recall>0: print('Recall   :', recall)\n",
    "    if auc>0: print('ROC AUC  :', auc)\n",
    "    print('BFEC done in: ',(int(round(time.time() * 1000)) - aux)/10, 'ms')"
   ]
  },
  {
   "cell_type": "code",
   "execution_count": 11,
   "metadata": {
    "scrolled": true
   },
   "outputs": [
    {
     "name": "stdout",
     "output_type": "stream",
     "text": [
      "************************************************************\n",
      "Brute Force Ensemble Classifier\n",
      "************************************************************\n",
      "Accuracy : 0.8666666666666667\n",
      "BFEC done in:  4171.2 ms\n"
     ]
    }
   ],
   "source": [
    "iris_possible_ensembles = define_all_possible_ensembles(data=iris.data, n_estimators=35)\n",
    "len(iris_possible_ensembles)\n",
    "compare_results(data=iris.data, \n",
    "                target=iris.target, \n",
    "                n_estimators=35, \n",
    "                csv_file='iris_random_results.csv', \n",
    "                all_possible_ensembles=iris_possible_ensembles)"
   ]
  },
  {
   "cell_type": "code",
   "execution_count": 9,
   "metadata": {},
   "outputs": [
    {
     "name": "stdout",
     "output_type": "stream",
     "text": [
      "************************************************************\n",
      "Brute Force Ensemble Classifier\n",
      "************************************************************\n",
      "Accuracy : 0.9722222222222222\n",
      "BFEC done in:  6663.7 ms\n"
     ]
    }
   ],
   "source": [
    "wine_possible_ensembles = define_all_possible_ensembles(data=wine.data, n_estimators=35)\n",
    "compare_results(data=wine.data, \n",
    "                target=wine.target, \n",
    "                n_estimators=35, \n",
    "                csv_file='wine_random_results.csv', \n",
    "                all_possible_ensembles=wine_possible_ensembles)"
   ]
  },
  {
   "cell_type": "code",
   "execution_count": 10,
   "metadata": {},
   "outputs": [
    {
     "name": "stdout",
     "output_type": "stream",
     "text": [
      "************************************************************\n",
      "Brute Force Ensemble Classifier\n",
      "************************************************************\n",
      "Accuracy : 0.9824561403508771\n",
      "F1-score : 0.9864864864864865\n",
      "Precision: 0.9864864864864865\n",
      "Recall   : 0.9864864864864865\n",
      "ROC AUC  : 0.9807432432432431\n",
      "BFEC done in:  11511.1 ms\n"
     ]
    }
   ],
   "source": [
    "breast_possible_ensembles = define_all_possible_ensembles(data=breast.data, n_estimators=35)\n",
    "compare_results(data=breast.data, \n",
    "                target=breast.target, \n",
    "                n_estimators=35, \n",
    "                csv_file='breast_random_results.csv', \n",
    "                all_possible_ensembles=breast_possible_ensembles)"
   ]
  },
  {
   "cell_type": "code",
   "execution_count": null,
   "metadata": {},
   "outputs": [],
   "source": []
  }
 ],
 "metadata": {
  "kernelspec": {
   "display_name": "Python 3",
   "language": "python",
   "name": "python3"
  },
  "language_info": {
   "codemirror_mode": {
    "name": "ipython",
    "version": 3
   },
   "file_extension": ".py",
   "mimetype": "text/x-python",
   "name": "python",
   "nbconvert_exporter": "python",
   "pygments_lexer": "ipython3",
   "version": "3.6.4"
  }
 },
 "nbformat": 4,
 "nbformat_minor": 2
}
